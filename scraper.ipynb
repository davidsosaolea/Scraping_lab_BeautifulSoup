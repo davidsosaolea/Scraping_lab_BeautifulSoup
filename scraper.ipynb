{
 "cells": [
  {
   "cell_type": "code",
   "execution_count": 3,
   "metadata": {},
   "outputs": [],
   "source": [
    "import requests\n",
    "from bs4 import BeautifulSoup\n",
    "import csv\n"
   ]
  },
  {
   "cell_type": "code",
   "execution_count": 4,
   "metadata": {},
   "outputs": [
    {
     "name": "stdout",
     "output_type": "stream",
     "text": [
      "Enlaces guardados en el archivo 'enlaces.csv'\n"
     ]
    }
   ],
   "source": [
    "\n",
    "url = \"https://rpp.pe/ultimas-noticias\"\n",
    "response = requests.get(url)\n",
    "soup = BeautifulSoup(response.content, \"html.parser\")\n",
    "\n",
    "flow_row_div = soup.find(\"div\", {\"class\": \"flow-row\"})\n",
    "article_divs = flow_row_div.find_all(\"article\")\n",
    "\n",
    "with open(\"enlaces.csv\", \"w\", newline='') as file:\n",
    "    writer = csv.writer(file)\n",
    "    writer.writerow([\"Link\", \"Text\"])\n",
    "\n",
    "    for article_div in article_divs:\n",
    "        inner_card_div = article_div.find(\"div\", {\"class\": \"inner-card\"})\n",
    "        cont_div = inner_card_div.find(\"div\", {\"class\": \"cont\"})\n",
    "        h2_element = cont_div.find(\"h2\")\n",
    "        a_element = h2_element.find(\"a\")\n",
    "\n",
    "        link = a_element[\"href\"]\n",
    "        text = a_element.get_text()\n",
    "\n",
    "        writer.writerow([link, text])\n",
    "\n",
    "print(\"Enlaces guardados en el archivo 'enlaces.csv'\")\n"
   ]
  }
 ],
 "metadata": {
  "kernelspec": {
   "display_name": "py35",
   "language": "python",
   "name": "python3"
  },
  "language_info": {
   "codemirror_mode": {
    "name": "ipython",
    "version": 3
   },
   "file_extension": ".py",
   "mimetype": "text/x-python",
   "name": "python",
   "nbconvert_exporter": "python",
   "pygments_lexer": "ipython3",
   "version": "3.11.3"
  },
  "orig_nbformat": 4
 },
 "nbformat": 4,
 "nbformat_minor": 2
}
