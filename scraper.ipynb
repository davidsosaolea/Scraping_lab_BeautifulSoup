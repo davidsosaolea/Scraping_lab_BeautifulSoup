{
 "cells": [
  {
   "cell_type": "code",
   "execution_count": 5,
   "metadata": {},
   "outputs": [],
   "source": [
    "import requests\n",
    "from bs4 import BeautifulSoup\n",
    "import csv\n",
    "import datetime"
   ]
  },
  {
   "cell_type": "code",
   "execution_count": null,
   "metadata": {},
   "outputs": [],
   "source": [
    "import requests\n",
    "from bs4 import BeautifulSoup\n",
    "import csv\n",
    "from datetime import date"
   ]
  },
  {
   "cell_type": "code",
   "execution_count": 4,
   "metadata": {},
   "outputs": [
    {
     "name": "stdout",
     "output_type": "stream",
     "text": [
      "Enlaces guardados en el archivo 'enlaces.csv'\n"
     ]
    }
   ],
   "source": [
    "\n",
    "url = \"https://rpp.pe/ultimas-noticias\"\n",
    "response = requests.get(url)\n",
    "soup = BeautifulSoup(response.content, \"html.parser\")\n",
    "\n",
    "flow_row_div = soup.find(\"div\", {\"class\": \"flow-row\"})\n",
    "article_divs = flow_row_div.find_all(\"article\")\n",
    "\n",
    "with open(\"enlaces.csv\", \"w\", newline='') as file:\n",
    "    writer = csv.writer(file)\n",
    "    writer.writerow([\"Link\", \"Text\"])\n",
    "\n",
    "    for article_div in article_divs:\n",
    "        inner_card_div = article_div.find(\"div\", {\"class\": \"inner-card\"})\n",
    "        cont_div = inner_card_div.find(\"div\", {\"class\": \"cont\"})\n",
    "        h2_element = cont_div.find(\"h2\")\n",
    "        a_element = h2_element.find(\"a\")\n",
    "\n",
    "        link = a_element[\"href\"]\n",
    "        text = a_element.get_text()\n",
    "\n",
    "        writer.writerow([link, text])\n",
    "\n",
    "print(\"Enlaces guardados en el archivo 'enlaces.csv'\")\n"
   ]
  },
  {
   "cell_type": "code",
   "execution_count": 9,
   "metadata": {},
   "outputs": [],
   "source": [
    "import requests\n",
    "from bs4 import BeautifulSoup\n",
    "import csv\n",
    "from datetime import date\n",
    "\n",
    "# Obtener la página web\n",
    "url = \"https://rpp.pe/ultimas-noticias\"\n",
    "response = requests.get(url)\n",
    "\n",
    "# Analizar la página web con Beautiful Soup\n",
    "soup = BeautifulSoup(response.content, \"html.parser\")\n",
    "\n",
    "# Encontrar el div que contiene los artículos\n",
    "flow_row_div = soup.find(\"div\", class_=\"flow-row\")\n",
    "\n",
    "# Iterar a través de los artículos\n",
    "articles = flow_row_div.find_all(\"article\")\n",
    "rows = []\n",
    "for article in articles:\n",
    "    # Encontrar el div que contiene el título y el enlace\n",
    "    inner_card_div = article.find(\"div\", class_=\"inner-card\")\n",
    "    if inner_card_div is None:\n",
    "        continue\n",
    "    # Encontrar el título y el enlace\n",
    "    title_h2 = inner_card_div.find(\"h2\", class_=\"t-bold\")\n",
    "    if title_h2 is None:\n",
    "        continue\n",
    "    link_a = inner_card_div.find(\"a\")\n",
    "    if link_a is None:\n",
    "        continue\n",
    "    # Obtener el texto del título y el enlace\n",
    "    title_text = title_h2.text.strip()\n",
    "    link_href = link_a.get(\"href\")\n",
    "    link_text = link_a.text.strip()\n",
    "    \n",
    "    # Obtener el resumen y el cuerpo del artículo\n",
    "    article_url = \"https://rpp.pe\" + link_href\n",
    "    article_response = requests.get(article_url)\n",
    "    article_soup = BeautifulSoup(article_response.content, \"html.parser\")\n",
    "    summary_text = article_soup.select_one(\"#content > div.row.article-header-container > div:nth-child(1) > article > header > div.article-summary-container > h2\").text.strip()\n",
    "    body_text = \"\\n\".join(p.text.strip() for p in article_soup.select(\"#article-body > p\"))\n",
    "    \n",
    "    # Crear una fila de datos\n",
    "    row = [link_href, title_text, summary_text, body_text, str(date.today())]\n",
    "    rows.append(row)\n",
    "\n",
    "# Escribir los datos en un archivo CSV\n",
    "with open(\"rpp.csv\", \"w\", newline=\"\", encoding=\"utf-8\") as f:\n",
    "    writer = csv.writer(f)\n",
    "    writer.writerow([\"link\", \"titulo\", \"resumen\", \"cuerpo\", \"fecha\"])\n",
    "    writer.writerows(rows)\n",
    "\n",
    "\n"
   ]
  }
 ],
 "metadata": {
  "kernelspec": {
   "display_name": "py35",
   "language": "python",
   "name": "python3"
  },
  "language_info": {
   "codemirror_mode": {
    "name": "ipython",
    "version": 3
   },
   "file_extension": ".py",
   "mimetype": "text/x-python",
   "name": "python",
   "nbconvert_exporter": "python",
   "pygments_lexer": "ipython3",
   "version": "3.11.3"
  },
  "orig_nbformat": 4
 },
 "nbformat": 4,
 "nbformat_minor": 2
}
