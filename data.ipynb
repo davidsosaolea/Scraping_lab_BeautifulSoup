{
 "cells": [
  {
   "cell_type": "code",
   "execution_count": 38,
   "metadata": {},
   "outputs": [],
   "source": [
    "import requests\n",
    "from bs4 import BeautifulSoup\n",
    "import csv\n",
    "\n",
    "url = 'https://www.datalatam.com/90'\n",
    "\n",
    "# Realizamos la petición a la página\n",
    "response = requests.get(url)\n",
    "\n",
    "# Creamos el objeto BeautifulSoup y le pasamos el contenido de la página\n",
    "soup = BeautifulSoup(response.content, 'html.parser')\n",
    "\n",
    "# Buscamos todos los enlaces de la página que estén dentro de un tag 'a'\n",
    "links = soup.find_all('a')\n",
    "\n",
    "# Abrimos el archivo CSV en modo escritura\n",
    "with open('enlaces.csv', mode='w', newline='') as file:\n",
    "    # Creamos el objeto writer y le pasamos el archivo CSV\n",
    "    writer = csv.writer(file)\n",
    "\n",
    "    # Recorremos todos los enlaces encontrados\n",
    "    for link in links:\n",
    "        # Obtenemos la URL del enlace\n",
    "        url = link.get('href')\n",
    "\n",
    "        # Escribimos la URL en el archivo CSV\n",
    "        writer.writerow([url])\n"
   ]
  },
  {
   "cell_type": "code",
   "execution_count": 40,
   "metadata": {},
   "outputs": [
    {
     "name": "stdout",
     "output_type": "stream",
     "text": [
      "https://www.datalatam.com/90\n"
     ]
    }
   ],
   "source": [
    "import requests\n",
    "from bs4 import BeautifulSoup\n",
    "\n",
    "url = 'https://www.datalatam.com/'\n",
    "response = requests.get(url)\n",
    "\n",
    "soup = BeautifulSoup(response.content, 'html.parser')\n",
    "\n",
    "# encuentra el div con clase \"col-md-6\" y extrae el enlace del primer a\n",
    "enlace = soup.find('div', {'class': 'col-md-6'}).find('a')['href']\n",
    "\n",
    "from urllib.parse import urljoin\n",
    "\n",
    "base_url = 'https://www.datalatam.com/'\n",
    "enlace = '/90'\n",
    "\n",
    "url_completa = urljoin(base_url, enlace)\n",
    "print(url_completa)\n",
    "\n"
   ]
  },
  {
   "cell_type": "code",
   "execution_count": 45,
   "metadata": {},
   "outputs": [
    {
     "name": "stdout",
     "output_type": "stream",
     "text": [
      "https://www.datalatam.com/90/\n"
     ]
    }
   ],
   "source": [
    "import requests\n",
    "from bs4 import BeautifulSoup\n",
    "\n",
    "url = \"https://www.datalatam.com\"\n",
    "response = requests.get(url)\n",
    "soup = BeautifulSoup(response.content, 'html.parser')\n",
    "\n",
    "enlace = soup.find(\"div\", {\"class\": \"col-md-6\"}).find(\"a\")[\"href\"]\n",
    "enlace_completo = url + '/'+ enlace\n",
    "\n",
    "print(enlace_completo)\n"
   ]
  },
  {
   "cell_type": "code",
   "execution_count": 50,
   "metadata": {},
   "outputs": [
    {
     "name": "stdout",
     "output_type": "stream",
     "text": [
      "['https://www.datalatam.com90/', 'https://www.datalatam.com89/', 'https://www.datalatam.com88/', 'https://www.datalatam.com87/', 'https://www.datalatam.com86/', 'https://www.datalatam.com85/', 'https://www.datalatam.com84/', 'https://www.datalatam.com83/', 'https://www.datalatam.com82/', 'https://www.datalatam.com81/', 'https://www.datalatam.com80/', 'https://www.datalatam.com79/', 'https://www.datalatam.com78/', 'https://www.datalatam.com77/', 'https://www.datalatam.com76/', 'https://www.datalatam.com75/', 'https://www.datalatam.com74/', 'https://www.datalatam.com73/', 'https://www.datalatam.com72/', 'https://www.datalatam.com71/', 'https://www.datalatam.com70/', 'https://www.datalatam.com69/', 'https://www.datalatam.com68/', 'https://www.datalatam.com67/', 'https://www.datalatam.com66/', 'https://www.datalatam.com65/', 'https://www.datalatam.com64/', 'https://www.datalatam.com63/', 'https://www.datalatam.com62/', 'https://www.datalatam.com61/', 'https://www.datalatam.com60/', 'https://www.datalatam.com59/', 'https://www.datalatam.com58/', 'https://www.datalatam.com57/', 'https://www.datalatam.com56/', 'https://www.datalatam.com55/', 'https://www.datalatam.com54/', 'https://www.datalatam.com53/', 'https://www.datalatam.com52/', 'https://www.datalatam.com51/', 'https://www.datalatam.com50/', 'https://www.datalatam.com49/', 'https://www.datalatam.com48/', 'https://www.datalatam.com47/', 'https://www.datalatam.com46/', 'https://www.datalatam.com45/', 'https://www.datalatam.com44/', 'https://www.datalatam.com43/', 'https://www.datalatam.com42/', 'https://www.datalatam.com41/', 'https://www.datalatam.com40/', 'https://www.datalatam.com39/', 'https://www.datalatam.com38/', 'https://www.datalatam.com37/', 'https://www.datalatam.com36/', 'https://www.datalatam.com35/', 'https://www.datalatam.com34/', 'https://www.datalatam.com33/', 'https://www.datalatam.com32/', 'https://www.datalatam.com31/', 'https://www.datalatam.com30/', 'https://www.datalatam.com29/', 'https://www.datalatam.com28/', 'https://www.datalatam.com27/', 'https://www.datalatam.com26/', 'https://www.datalatam.com25/', 'https://www.datalatam.com24/', 'https://www.datalatam.com23/', 'https://www.datalatam.com22/', 'https://www.datalatam.com21/', 'https://www.datalatam.com20/', 'https://www.datalatam.com18/', 'https://www.datalatam.com17/', 'https://www.datalatam.com16/', 'https://www.datalatam.com15/', 'https://www.datalatam.com14/', 'https://www.datalatam.com13/', 'https://www.datalatam.com12/', 'https://www.datalatam.com11/', 'https://www.datalatam.com10/', 'https://www.datalatam.com9/', 'https://www.datalatam.com8/', 'https://www.datalatam.com7/', 'https://www.datalatam.com6/', 'https://www.datalatam.com5/', 'https://www.datalatam.com4/', 'https://www.datalatam.com3/', 'https://www.datalatam.com2/', 'https://www.datalatam.com1/', 'https://www.datalatam.com0/']\n"
     ]
    }
   ],
   "source": [
    "import requests\n",
    "from bs4 import BeautifulSoup\n",
    "\n",
    "url_base = 'https://www.datalatam.com'\n",
    "response = requests.get(url_base)\n",
    "soup = BeautifulSoup(response.text, 'html.parser')\n",
    "\n",
    "enlaces = []\n",
    "for a in soup.select('div.col-md-6 p strong a'):\n",
    "    enlace = url_base + a['href']\n",
    "    enlaces.append(enlace)\n",
    "\n",
    "print(enlaces)\n",
    "\n",
    "\n"
   ]
  }
 ],
 "metadata": {
  "kernelspec": {
   "display_name": "py35",
   "language": "python",
   "name": "python3"
  },
  "language_info": {
   "codemirror_mode": {
    "name": "ipython",
    "version": 3
   },
   "file_extension": ".py",
   "mimetype": "text/x-python",
   "name": "python",
   "nbconvert_exporter": "python",
   "pygments_lexer": "ipython3",
   "version": "3.11.3"
  },
  "orig_nbformat": 4
 },
 "nbformat": 4,
 "nbformat_minor": 2
}
