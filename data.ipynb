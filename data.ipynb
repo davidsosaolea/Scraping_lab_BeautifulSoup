{
 "cells": [
  {
   "cell_type": "code",
   "execution_count": null,
   "metadata": {},
   "outputs": [],
   "source": [
    "import csv\n",
    "import requests\n",
    "from bs4 import BeautifulSoup\n"
   ]
  },
  {
   "cell_type": "code",
   "execution_count": 18,
   "metadata": {},
   "outputs": [
    {
     "name": "stdout",
     "output_type": "stream",
     "text": [
      "https://www.datalatam.com/90/\n"
     ]
    }
   ],
   "source": [
    "\n",
    "url = \"https://www.datalatam.com\"\n",
    "response = requests.get(url)\n",
    "soup = BeautifulSoup(response.content, 'html.parser')\n",
    "\n",
    "enlace = soup.find(\"div\", {\"class\": \"col-md-6\"}).find(\"a\")[\"href\"]\n",
    "enlace_completo = url + '/'+ enlace\n",
    "\n",
    "print(enlace_completo)\n"
   ]
  },
  {
   "cell_type": "code",
   "execution_count": 4,
   "metadata": {},
   "outputs": [
    {
     "name": "stdout",
     "output_type": "stream",
     "text": [
      "['https://www.datalatam.com/90/', 'https://www.datalatam.com/89/', 'https://www.datalatam.com/88/', 'https://www.datalatam.com/87/', 'https://www.datalatam.com/86/', 'https://www.datalatam.com/85/', 'https://www.datalatam.com/84/', 'https://www.datalatam.com/83/', 'https://www.datalatam.com/82/', 'https://www.datalatam.com/81/', 'https://www.datalatam.com/80/', 'https://www.datalatam.com/79/', 'https://www.datalatam.com/78/', 'https://www.datalatam.com/77/', 'https://www.datalatam.com/76/', 'https://www.datalatam.com/75/', 'https://www.datalatam.com/74/', 'https://www.datalatam.com/73/', 'https://www.datalatam.com/72/', 'https://www.datalatam.com/71/', 'https://www.datalatam.com/70/', 'https://www.datalatam.com/69/', 'https://www.datalatam.com/68/', 'https://www.datalatam.com/67/', 'https://www.datalatam.com/66/', 'https://www.datalatam.com/65/', 'https://www.datalatam.com/64/', 'https://www.datalatam.com/63/', 'https://www.datalatam.com/62/', 'https://www.datalatam.com/61/', 'https://www.datalatam.com/60/', 'https://www.datalatam.com/59/', 'https://www.datalatam.com/58/', 'https://www.datalatam.com/57/', 'https://www.datalatam.com/56/', 'https://www.datalatam.com/55/', 'https://www.datalatam.com/54/', 'https://www.datalatam.com/53/', 'https://www.datalatam.com/52/', 'https://www.datalatam.com/51/', 'https://www.datalatam.com/50/', 'https://www.datalatam.com/49/', 'https://www.datalatam.com/48/', 'https://www.datalatam.com/47/', 'https://www.datalatam.com/46/', 'https://www.datalatam.com/45/', 'https://www.datalatam.com/44/', 'https://www.datalatam.com/43/', 'https://www.datalatam.com/42/', 'https://www.datalatam.com/41/', 'https://www.datalatam.com/40/', 'https://www.datalatam.com/39/', 'https://www.datalatam.com/38/', 'https://www.datalatam.com/37/', 'https://www.datalatam.com/36/', 'https://www.datalatam.com/35/', 'https://www.datalatam.com/34/', 'https://www.datalatam.com/33/', 'https://www.datalatam.com/32/', 'https://www.datalatam.com/31/', 'https://www.datalatam.com/30/', 'https://www.datalatam.com/29/', 'https://www.datalatam.com/28/', 'https://www.datalatam.com/27/', 'https://www.datalatam.com/26/', 'https://www.datalatam.com/25/', 'https://www.datalatam.com/24/', 'https://www.datalatam.com/23/', 'https://www.datalatam.com/22/', 'https://www.datalatam.com/21/', 'https://www.datalatam.com/20/', 'https://www.datalatam.com/18/', 'https://www.datalatam.com/17/', 'https://www.datalatam.com/16/', 'https://www.datalatam.com/15/', 'https://www.datalatam.com/14/', 'https://www.datalatam.com/13/', 'https://www.datalatam.com/12/', 'https://www.datalatam.com/11/', 'https://www.datalatam.com/10/', 'https://www.datalatam.com/9/', 'https://www.datalatam.com/8/', 'https://www.datalatam.com/7/', 'https://www.datalatam.com/6/', 'https://www.datalatam.com/5/', 'https://www.datalatam.com/4/', 'https://www.datalatam.com/3/', 'https://www.datalatam.com/2/', 'https://www.datalatam.com/1/', 'https://www.datalatam.com/0/']\n"
     ]
    }
   ],
   "source": [
    "url_base = 'https://www.datalatam.com'\n",
    "response = requests.get(url_base)\n",
    "soup = BeautifulSoup(response.text, 'html.parser')\n",
    "\n",
    "enlaces = []\n",
    "for a in soup.select('div.col-md-6 p strong a'):\n",
    "    enlace = url_base + '/' + a['href']\n",
    "    enlaces.append(enlace)\n",
    "\n",
    "print(enlaces)\n",
    "\n",
    "\n"
   ]
  },
  {
   "cell_type": "code",
   "execution_count": 14,
   "metadata": {},
   "outputs": [
    {
     "name": "stdout",
     "output_type": "stream",
     "text": [
      "['https://twitter.com/diegocrespo', 'https://www.linkedin.com/in/crespodiego/', 'https://www.linkedin.com/in/fernando-pino-96bb03114/', 'https://www.linkedin.com/company/biofeeder/', 'https://www.biofeeder.ec/']\n"
     ]
    }
   ],
   "source": [
    "url = 'https://www.datalatam.com/90/'\n",
    "response = requests.get(url)\n",
    "soup = BeautifulSoup(response.content, 'html.parser')\n",
    "\n",
    "enlaces = []\n",
    "for a in soup.select('div ul li a'):\n",
    "    enlace = a['href']\n",
    "    enlaces.append(enlace)\n",
    "\n",
    "print(enlaces)\n"
   ]
  },
  {
   "cell_type": "code",
   "execution_count": 15,
   "metadata": {},
   "outputs": [
    {
     "name": "stdout",
     "output_type": "stream",
     "text": [
      "['https://twitter.com/diegocrespo', 'https://www.linkedin.com/in/crespodiego/', 'https://www.linkedin.com/in/fernando-pino-96bb03114/', 'https://www.linkedin.com/company/biofeeder/', 'https://www.biofeeder.ec/', 'https://www.linkedin.com/in/blakiseskream/', 'https://www.linkedin.com/company/happy-cabbage-analytics/', 'https://www.happycabbage.io/', 'https://twitter.com/happy_cabbage', 'https://www.linkedin.com/in/maia-brenner/', 'https://www.flipando.ai/', 'https://www.sequoiacap.com/article/generative-ai-a-creative-new-world/', 'https://www.linkedin.com/in/arojasa/', 'https://www.linkedin.com/in/rocio-echeverria-76043061/', 'https://connect.ixpantia.com/ixblog/posts/2022-12-20-perspectivas-de-datos-en-latinoamerica/', 'https://www.ixpantia.com/es/', 'https://www.linkedin.com/in/francesco-giorgetti-8b459b3b/', 'https://www.linkedin.com/company/sierracolenergy/', 'https://sierracolenergy.com/', 'https://www.linkedin.com/in/tareefk/', 'https://twitter.com/tareefk', 'https://www.linkedin.com/company/posit-software/', 'https://twitter.com/posit_pbc', 'https://ixpantia.com/eventos', 'https://www.ixpantia.com/eventos/', 'https://twitter.com/theotheredgar', 'https://www.linkedin.com/in/edgararuiz/', 'https://www.datalatam.com/16/', 'https://www.linkedin.com/in/rgarreta/', 'https://twitter.com/raulgarreta', 'https://www.linkedin.com/company/monkeylearn/', 'https://monkeylearn.com/', 'https://www.medallia.com/', 'https://www.youtube.com/@lexfridman', 'https://twitter.com/jasonlk', 'https://www.linkedin.com/in/doppenheimer/', 'https://www.twitter.com/doppenhe', 'https://www.linkedin.com/company/factoryhq/', 'https://www.factoryhq.ai/', 'https://algorithmia.com/', 'https://www.datarobot.com/', 'https://www.linkedin.com/in/juan-mauricio-leandro-jim%C3%A9nez-252880112/', 'https://www.linkedin.com/company/grupocs-cr/', 'https://www.linkedin.com/in/ivan-herrero-bartolome/', 'https://www.linkedin.com/in/luis-wong-8409173/', 'https://www.linkedin.com/company/cdo-club-latam/', 'https://cdo-latam.com/', 'https://www.linkedin.com/in/javierluraschi/', 'https://twitter.com/javierluraschi', 'https://hal9.com/', 'https://twitter.com/avyfain', 'https://linkedin.com/in/avyfaingezicht/', 'www.faingezicht.com', 'https://techcrunch.com/2021/09/10/vouch-business-insurance-provider-to-startups-raises-90m-and-is-now-valued-at-550m/', 'https://www.builtinsf.com/2022/08/16/vouchs-insurtech-protects-future-innovation', 'https://youtu.be/MTZD5VTV4NI', 'https://www.youtube.com/watch?v=T1yNj4ofXRE', 'https://www.linkedin.com/in/panchomalmierca/', 'https://spendlab.com/', 'https://www.linkedin.com/in/nadia-huebra-8013a710/', 'https://www.linkedin.com/company/lexica-sas/', 'https://www.linkedin.com/in/jaahumada/', 'https://www.wildlifeinsights.org', 'https://twitter.com/jorahum', 'https://scholar.google.com/citations?user=NIlZXloAAAAJ&hl=en', 'https://www.wildlabs.net', 'https://www.linkedin.com/in/smoreirah/', 'https://www.linkedin.com/in/timkraska', 'https://www.einblick.ai', 'https://people.csail.mit.edu/kraska/', 'https://www.linkedin.com/in/rudy-corrales-vega-29687022/', 'https://twitter.com/Samantha_Toet', 'https://www.linkedin.com/in/samanthatoet/', 'https://www.linkedin.com/in/martincarniglia', 'https://www.iprofesional.com/tecnologia/356870-experiencias-digitales-como-afectan-la-privacidad-del-usuario', 'https://www.rga.com/es/futurevision/pov/future-of-marketing-without-third-party-cookies', 'https://www.rga.com/futurevision/pov/what-is-ab-experimentation-and-how-it-can-impact-your-business', 'https://www.rga.com/futurevision/pov/ga4-understanding-google-analytics-new-generation', 'https://www.linkedin.com/in/leandrosrur/', 'https://www.linkedin.com/company/corebi-latam/', 'https://www.linkedin.com/in/dmparra/', 'https://yabellini.netlify.app', 'https://twitter.com/yabellini', 'https://www.linkedin.com/in/yabellini/', 'https://www.linkedin.com/in/franciscosimone/', 'https://www.linkedin.com/company/delivery-hero-se/', 'https://www.linkedin.com/in/adolfocruzluthmer/', 'https://www.linkedin.com/company/proximity-costa-rica/', 'https://www.linkedin.com/company/10pearls/', 'https://www.linkedin.com/in/alex-lopez-b5329ab/', 'https://www.linkedin.com/in/oscarviquez/', 'https://oscar-viquez.com/', 'https://www.linkedin.com/in/avazquez/', 'https://twitter.com/vazquezbrust', 'https://bitsandbricks.github.io/ciencia_de_datos_gente_sociable/', 'https://twitter.com/surbica', 'https://www.linkedin.com/in/sebastian-urbina-12aa5b3', 'https://www.linkedin.com/in/aldoluevano-it/', 'https://roomie-it.org/', 'https://roomie-it.org/careers', 'https://twitter.com/djArliMa', 'https://www.linkedin.com/in/randolfkissling', 'https://www.shiftelearning.com/home', 'https://www.shiftelearning.com/blog', 'https://www.linkedin.com/in/elio-campitelli-570569191/', 'https://twitter.com/d_olivaw', 'https://www.linkedin.com/in/andreavargasmontero/', 'https://twitter.com/andreavargasmon', 'https://flur.ee', 'https://twitter.com/bplatz', 'https://www.linkedin.com/in/brianplatz/', 'https://www.platz.me/', 'https://www.paulamoraga.com', 'https://twitter.com/Paula_Moraga_', 'https://www.r-inla.org/what-is-inla', 'https://www.paulamoraga.com/book-geospatial/', 'https://scholar.google.com/citations?user=xxhTPIYAAAAJ&hl=en', 'https://www.kaust.edu.sa/en', 'https://www.linkedin.com/in/agustinh17/', 'https://twitter.com/awstinh', 'https://lanthorn.ai', 'https://github.com/neuralet', 'https://extendo.company', 'https://www.twitter.com/paulfervoy', 'https://www.linkedin.com/in/paulfervoy/', '1https://www.slideshare.net/paulfervoy', 'https://wdi-publishing.com/product/flores-del-este-costa-rican-florist-considers-online-opportunities/', 'https://wdi-publishing.com/product/flores-del-este-b-a-costa-rican-florist-blooms-with-online-data/', 'https://cloudonair.withgoogle.com/', 'https://www.thinkwithgoogle.com/', 'https://www.blog.google/products/marketingplatform/analytics/', 'https://www.kaushik.net/avinash/', 'https://twitter.com/florianpestoni', 'https://www.linkedin.com/in/florianpestoni/', 'https://inorbit.ai/blog/', 'https://twitter.com/JennyBryan', 'https://twitter.com/annakrystalli', 'https://twitter.com/benmarwick', 'https://twitter.com/nordholmen', 'https://twitter.com/ixek', 'https://twitter.com/mauro_lepore', 'https://twitter.com/jdblischak', 'https://www.linkedin.com/in/jdblischak', 'https://jdblischak.com/', 'https://www.kickstarter.com/projects/datasketch/savethedata', 'http://datasketch.store', 'https://twitter.com/jpmarindiaz', 'https://www.linkedin.com/in/jpmarindiaz/', 'https://twitter.com/mauro_lepore', 'https://www.linkedin.com/in/mauro-lepore', 'https://www.tidyverse.org/articles', 'https://www.linkedin.com/in/tatianapq/', 'https://twitter.com/tatipq', 'https://www.linkedin.com/in/mikaela-weisse-05979485/', 'https://www.globalforestwatch.org/', 'https://www.wri.org/', 'https://twitter.com/alf10087', 'https://www.reddit.com/r/dataisbeautiful', 'https://twitter.com/serilone', 'https://www.linkedin.com/in/carolina-montoya-rivera-382a57135/', 'https://twitter.com/telaroz', 'https://www.linkedin.com/in/valery-z%C3%BA%C3%B1iga-kondrashov-b53798171/', 'https://www.r-bloggers.com/', 'https://rpubs.com/', 'https://twitter.com/albansc', 'https://www.linkedin.com/in/alb%C3%A1n-s%C3%A1nchez-39a9624/', 'https://www.lantern.tech/', 'https://twitter.com/faviovaz', 'https://www.linkedin.com/in/faviovazquez', 'https://www.kdnuggets.com/2018/03/weird-introduction-deep-learning.html', 'https://www.kdnuggets.com/2018/03/two-sides-getting-job-data-scientist.html', 'https://medium.com/datos-y-ciencia/creando-inteligencia-con-ciencia-de-datos-d77be52c029e', 'https://medium.com/datos-y-ciencia', 'https://towardsdatascience.com', 'https://www.linkedin.com/in/jonathan-sequeira-androvetto-28175bb4', 'https://twitter.com/theotheredgar', 'https://www.linkedin.com/in/edgararuiz/', 'http://spark.rstudio.com/', 'http://db.rstudio.com/', 'https://CRAN.R-project.org/package=dbplyr', 'https://www.edgarsdatalab.com/', 'https://github.com/tidyverse/', 'https://twitter.com/Fichulina', 'https://www.linkedin.com/in/malfaro18/', 'https://malfaro2.github.io/', 'https://blog.feedspot.com/r_programming_blogs/', 'https://www.conectar2019.org', 'https://www.linkedin.com/in/dioniciovelasquez/', 'https://www.twitter.com/carlabonina', 'https://www.linkedin.com/in/carlabonina', 'https://surreycode.org/', 'http://riga.idatosabiertos.org/', 'https://idatosabiertos.org/', 'https://twitter.com/insidealgorithm', 'https://es.linkedin.com/in/calejero', 'https://twitter.com/gilbellosta', 'https://twitter.com/joscani', 'https://twitter.com/R_Hisp', 'https://twitter.com/estebanmoro', 'https://cooldata.wordpress.com/', 'https://blog.dominodatalab.com/', 'http://flowingdata.com/', 'https://bigml.com/events/', 'http://synergy.vision/', 'https://www.linkedin.com/in/craigcarty3', 'http://ehealthnews.co.za/craig-carty', 'https://www.therelevancenetwork.com', 'https://www.bbvadata.com', 'https://www.commerce360.es', 'https://www.bbvadata.com/improving-customer-experience-forecasting-models', 'https://www.bbvadata.com/odile', 'https://www.bbvadata.com/urbandiscovery', 'https://www.bbvadata.com/rediscovering-cities-credit-card-data', 'https://www.bbvadata.com/rediscovering-cities-credit-card-data-2', 'https://www.bbvadata.com/big-data-to-enhance-the-tourism-in-mexico', 'http://twitter.com/BBVAData', 'http://twitter.com/DiegoBodasSagi', 'https://www.linkedin.com/in/mauriciosana/', 'https://twitter.com/TrestleJeff', 'https://cran.r-project.org/web/packages/plumber/index.html', 'https://www.rstudio.com/', 'https://www.r-bloggers.com/', 'https://www.linkedin.com/in/agustin-gomez-melendez-262205100/', 'http://www.odd.ucr.ac.cr/', 'https://vinv.ucr.ac.cr/sigpro/web/researchers/111180696', 'http://bigdatasummit.pe/conferencia', 'https://cran.r-project.org/web/packages/junr/index.html', 'http://www.junar.com', 'https://socrata.com', 'https://okfn.org', 'https://www.linkedin.com/in/scott-chamberlain-78656556/', 'https://www.twitter.com/sckottie', 'https://ropensci.org/', 'http://www.datatau.com', 'http://www.stratahadoopworld.com/', 'http://www.dataengconf.com/', 'https://medium.com/@noahhl', 'http://multithreaded.stitchfix.com/blog/', 'http://martin.zinkevich.org/rules_of_ml/rules_of_ml.pdf', 'https://twitter.com/dwhitena', 'https://www.linkedin.com/in/danielwhitenack/', 'http://www.pachyderm.io', 'https://twitter.com/pachydermIO', 'https://console.ng.bluemix.net/catalog/', 'https://www.linkedin.com/in/jeff-calcaterra-6582a23', 'https://www.ibm.com/design/', 'http://www-03.ibm.com/employment/us/index.shtml', 'http://www.datalatam.com/2/', 'https://pe.linkedin.com/in/miguel-paredes-70a5682', 'https://cr.linkedin.com/in/oldemar-rodríguez-937aa93a/en', 'http://www.bigdatalatam.com/', 'http://www.oldemarrodriguez.com/', 'http://www.promidat.org/', 'https://www.linkedin.com/in/fabiofernandezj/es', 'http://www.bigdatalatam.com', 'https://www.linkedin.com/in/nicholashorton', 'https://twitter.com/askdrstats', 'http://mosaic-web.org/', 'https://www.amherst.edu/', 'https://uk.linkedin.com/in/william-wint-479b686', 'https://scholar.google.com/citations?user=YM5ldiMAAAAJ&hl=en', 'http://artlawjournal.com/the-next-rembrandt-who-holds-the-copyright-in-computer-generated-art/', 'https://twitter.com/manuelaristaran', 'https://www.linkedin.com/in/maristaran', 'http://gastopublicobahiense.org/', 'http://www.media.mit.edu/', 'https://twitter.com/raulgarreta', 'https://www.linkedin.com/in/rgarreta', 'http://monkeylearn.com/', 'https://twitter.com/monkeylearn', 'https://Facebook.com/data', 'https://www.facebook.com/carlos.diuk', 'https://www.linkedin.com/in/carlos-diuk-wasser-2387b72', 'https://Facebook.com/data', 'https://www.linkedin.com/in/davidihenderson', 'http://fullcontactphilanthropy.com/', 'http://www.fii.org/', 'https://www.uptogether.org/', 'https://www.linkedin.com/in/cukyperez', 'https://twitter.com/cukyperez', 'https://github.com/airbnb/knowledge-repo', 'https://www.airbnb.com/careers/departments/data-science-analytics', 'https://www.linkedin.com/in/cukyperez', 'https://twitter.com/cukyperez', 'https://www.airbnb.com/careers/departments/data-science-analytics', 'https://cl.linkedin.com/in/darenasc', 'https://twitter.com/darenasc', 'https://www.academia.edu/19766502/Business_Intelligence_and_Agile_Methodologies_for_Knowledge-Based_Organizations_Cross-Disciplinary_Applications', 'http://analisisbi.blogspot.com', 'https://www.linkedin.com/in/vanesadellacqua', 'http://temperies.com', 'https://mx.linkedin.com/in/tguerrerovl/en', 'https://github.com/teresita-guerrero', 'http://datuminference.com/', 'https://mx.linkedin.com/in/víctor-cortés-figueroa-9278921b', 'https://mx.linkedin.com/in/jesús-alejandro-navarro-acosta-85405b123/', 'http://rinesi.com', 'https://twitter.com/marcelorinesi', 'http://inst.dharmatec.com.ar/', 'http://www.northeastern.edu/cssh/policyschool/graduate-programs/urban-informatics/', 'http://www.bostonarearesearchinitiative.net/Boston-Data-Portal.php', 'http://www.govtech.com/public-safety/New-York-City-Fights-Fire-with-Data.html', 'http://www.smithsonianmag.com/innovation/how-data-and-good-algorithm-can-help-predict-where-fires-will-start-180954436/', 'http://www.amazon.com/Fires-Computer-Intentions-City-Determined/dp/1594485062', 'http://www.nola.gov/performance-and-accountability/nolalytics/files/full-report-on-analytics-informed-smoke-alarm-outr/']\n"
     ]
    }
   ],
   "source": [
    "def obtener_enlaces_episodios(url_base):\n",
    "    response = requests.get(url_base)\n",
    "    soup = BeautifulSoup(response.text, 'html.parser')\n",
    "\n",
    "    enlaces_podcasts = []\n",
    "    for a in soup.select('div.col-md-6 p strong a'):\n",
    "        enlace_podcast = url_base + '/' + a['href']\n",
    "        enlaces_podcasts.append(enlace_podcast)\n",
    "\n",
    "    enlaces_episodios = []\n",
    "    for enlace_podcast in enlaces_podcasts:\n",
    "        response = requests.get(enlace_podcast)\n",
    "        soup = BeautifulSoup(response.content, 'html.parser')\n",
    "\n",
    "        for a in soup.select('div ul li a'):\n",
    "            enlace_episodio = a['href']\n",
    "            enlaces_episodios.append(enlace_episodio)\n",
    "\n",
    "    return enlaces_episodios\n",
    "\n",
    "url_base = 'https://www.datalatam.com'\n",
    "enlaces_episodios = obtener_enlaces_episodios(url_base)\n",
    "print(enlaces_episodios)\n"
   ]
  },
  {
   "cell_type": "code",
   "execution_count": 16,
   "metadata": {},
   "outputs": [],
   "source": [
    "url_base = 'https://www.datalatam.com'\n",
    "response = requests.get(url_base)\n",
    "soup = BeautifulSoup(response.text, 'html.parser')\n",
    "\n",
    "with open('podcasts.csv', 'w', newline='') as csvfile:\n",
    "    writer = csv.writer(csvfile, delimiter=',')\n",
    "    writer.writerow(['Podcast', 'Enlace'])\n",
    "\n",
    "    for a in soup.select('div.col-md-6 p strong a'):\n",
    "        podcast = a.text.strip()\n",
    "        enlace = url_base + '/' + a['href']\n",
    "\n",
    "        response2 = requests.get(enlace)\n",
    "        soup2 = BeautifulSoup(response2.content, 'html.parser')\n",
    "        episodios = []\n",
    "        for a2 in soup2.select('div ul li a'):\n",
    "            enlace2 = a2['href']\n",
    "            episodios.append(enlace2)\n",
    "        \n",
    "        writer.writerow([podcast, ', '.join(episodios)])\n"
   ]
  }
 ],
 "metadata": {
  "kernelspec": {
   "display_name": "py35",
   "language": "python",
   "name": "python3"
  },
  "language_info": {
   "codemirror_mode": {
    "name": "ipython",
    "version": 3
   },
   "file_extension": ".py",
   "mimetype": "text/x-python",
   "name": "python",
   "nbconvert_exporter": "python",
   "pygments_lexer": "ipython3",
   "version": "3.11.3"
  },
  "orig_nbformat": 4
 },
 "nbformat": 4,
 "nbformat_minor": 2
}
